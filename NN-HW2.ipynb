{
 "cells": [
  {
   "cell_type": "markdown",
   "id": "68f3c733",
   "metadata": {},
   "source": [
    "### *Определение точности предсказания NN в зависимости от различных параметров (кол-во нейронов в слое, кол-во слоев, оптимизаторы)*"
   ]
  },
  {
   "cell_type": "code",
   "execution_count": null,
   "id": "64b52ba0",
   "metadata": {},
   "outputs": [],
   "source": [
    "# !pip install keras"
   ]
  },
  {
   "cell_type": "code",
   "execution_count": 159,
   "id": "18e4ed3f",
   "metadata": {},
   "outputs": [],
   "source": [
    "# !pip install tensorflow"
   ]
  },
  {
   "cell_type": "markdown",
   "id": "d9228896",
   "metadata": {},
   "source": [
    "Используем набор примеров fashion-MNIST\n",
    "\n",
    "1. Опишите - какой результат нейросети получен в зависимости от:\n",
    "\n",
    "-числа нейронов в слое (для 2-х слойной сети),\n",
    "\n",
    "-числа слоев (2, 3, 5, 10) при близких размерах сети (близкое число тренируемых параметров).\n",
    "\n",
    "-фиксируйте для тренировочного и тестового набора метрики accuracy.\n",
    "\n",
    "2. Проверьте работу разных оптимизаторов (SGD, Adam, RMSProp) для одной из моделей п.1. Фиксируйте для тренировочного и тестового набора метрики accuracy.\n",
    "\n",
    "3. Сделайте вывод - что помогло вам улучшить качество классификации в нейросети на тестовом наборе?\n",
    "\n",
    "4. Для одного варианта сети сформируйте матрицу ошибок по классам. Оцените качество модели по каждому классу отдельно (полнота, точность)."
   ]
  },
  {
   "cell_type": "code",
   "execution_count": 200,
   "id": "bc7e53f7",
   "metadata": {},
   "outputs": [],
   "source": [
    "from keras.datasets import fashion_mnist\n",
    "import numpy as np\n",
    "import matplotlib.pyplot as plt\n",
    "from sklearn.metrics import confusion_matrix, ConfusionMatrixDisplay\n",
    "from keras.utils.np_utils import to_categorical\n",
    "from keras.layers import Dense\n",
    "from keras.models import Sequential\n",
    "from keras import optimizers"
   ]
  },
  {
   "cell_type": "code",
   "execution_count": 201,
   "id": "c8c8d389",
   "metadata": {},
   "outputs": [
    {
     "name": "stdout",
     "output_type": "stream",
     "text": [
      "(60000, 28, 28) (10000, 28, 28)\n",
      "(60000,)\n"
     ]
    }
   ],
   "source": [
    "#загружаем данные\n",
    "(X_train, y_train_labels), (X_test, y_test_labels) = fashion_mnist.load_data()\n",
    "\n",
    "print(X_train.shape, X_test.shape)\n",
    "print(y_train_labels.shape)"
   ]
  },
  {
   "cell_type": "code",
   "execution_count": 202,
   "id": "a1a76b5f",
   "metadata": {},
   "outputs": [
    {
     "name": "stdout",
     "output_type": "stream",
     "text": [
      "Label is 8\n"
     ]
    },
    {
     "data": {
      "image/png": "[encoded data removed]",
      "text/plain": [
       "<Figure size 432x288 with 1 Axes>"
      ]
     },
     "metadata": {
      "needs_background": "light"
     },
     "output_type": "display_data"
    }
   ],
   "source": [
    "ind = np.random.randint(0, X_train.shape[0])\n",
    "plt.imshow(X_train[ind], cmap='gray')\n",
    "print(f'Label is {y_train_labels[ind]}')"
   ]
  },
  {
   "cell_type": "code",
   "execution_count": 203,
   "id": "e0f4e6ee",
   "metadata": {},
   "outputs": [],
   "source": [
    "class_names = ['T-shirt/top',\n",
    "               'Trouser',\n",
    "               'Pullover',\n",
    "               'Dress',\n",
    "               'Coat',\n",
    "               'Sandal',\n",
    "               'Shirt',\n",
    "               'Sneaker',\n",
    "               'Bag',\n",
    "               'Ankle boot']"
   ]
  },
  {
   "cell_type": "code",
   "execution_count": 204,
   "id": "1a367e5a",
   "metadata": {},
   "outputs": [
    {
     "data": {
      "text/plain": [
       "(0, 255)"
      ]
     },
     "execution_count": 204,
     "metadata": {},
     "output_type": "execute_result"
    }
   ],
   "source": [
    "X_train.min(), X_train.max()"
   ]
  },
  {
   "cell_type": "code",
   "execution_count": 205,
   "id": "a6e95229",
   "metadata": {},
   "outputs": [
    {
     "data": {
      "text/plain": [
       "(0.0, 1.0)"
      ]
     },
     "execution_count": 205,
     "metadata": {},
     "output_type": "execute_result"
    }
   ],
   "source": [
    "# Нормировка\n",
    "X_train = X_train / 255.0\n",
    "X_test = X_test / 255.0\n",
    "X_train.min(), X_train.max()"
   ]
  },
  {
   "cell_type": "code",
   "execution_count": 206,
   "id": "9a5541cf",
   "metadata": {},
   "outputs": [
    {
     "data": {
      "text/plain": [
       "((60000, 784), (10000, 784))"
      ]
     },
     "execution_count": 206,
     "metadata": {},
     "output_type": "execute_result"
    }
   ],
   "source": [
    "# Вытягивание признаков\n",
    "X_train = X_train.reshape((-1, 28 * 28))\n",
    "X_test = X_test.reshape((-1, 28 * 28))\n",
    "\n",
    "X_train.shape, X_test.shape"
   ]
  },
  {
   "cell_type": "code",
   "execution_count": 207,
   "id": "2645f3bf",
   "metadata": {},
   "outputs": [],
   "source": [
    "# Разбиваем по категориям\n",
    "y_train = to_categorical(y_train_labels)\n",
    "y_test = to_categorical(y_test_labels)"
   ]
  },
  {
   "cell_type": "code",
   "execution_count": 208,
   "id": "32a80f2d",
   "metadata": {},
   "outputs": [
    {
     "name": "stdout",
     "output_type": "stream",
     "text": [
      "Epoch 1/5\n",
      "235/235 [==============================] - 4s 12ms/step - loss: 2.0667 - accuracy: 0.2014 - val_loss: 1.9517 - val_accuracy: 0.2586\n",
      "Epoch 2/5\n",
      "235/235 [==============================] - 2s 9ms/step - loss: 1.8821 - accuracy: 0.3473 - val_loss: 1.8257 - val_accuracy: 0.3921\n",
      "Epoch 3/5\n",
      "235/235 [==============================] - 2s 7ms/step - loss: 1.7658 - accuracy: 0.4048 - val_loss: 1.7145 - val_accuracy: 0.4088\n",
      "Epoch 4/5\n",
      "235/235 [==============================] - 2s 8ms/step - loss: 1.6540 - accuracy: 0.4190 - val_loss: 1.6070 - val_accuracy: 0.4219\n",
      "Epoch 5/5\n",
      "235/235 [==============================] - 2s 8ms/step - loss: 1.5522 - accuracy: 0.4334 - val_loss: 1.5154 - val_accuracy: 0.4423\n",
      "79/79 [==============================] - 0s 4ms/step - loss: 1.5154 - accuracy: 0.4423\n",
      "Epoch 1/5\n",
      "235/235 [==============================] - 3s 8ms/step - loss: 2.2155 - accuracy: 0.1064 - val_loss: 2.1253 - val_accuracy: 0.1576\n",
      "Epoch 2/5\n",
      "235/235 [==============================] - 1s 6ms/step - loss: 2.0038 - accuracy: 0.2807 - val_loss: 1.8782 - val_accuracy: 0.3606\n",
      "Epoch 3/5\n",
      "235/235 [==============================] - 2s 8ms/step - loss: 1.7540 - accuracy: 0.3785 - val_loss: 1.6607 - val_accuracy: 0.3667\n",
      "Epoch 4/5\n",
      "235/235 [==============================] - 1s 6ms/step - loss: 1.5960 - accuracy: 0.3966 - val_loss: 1.5458 - val_accuracy: 0.4194\n",
      "Epoch 5/5\n",
      "235/235 [==============================] - 2s 10ms/step - loss: 1.4924 - accuracy: 0.4656 - val_loss: 1.4513 - val_accuracy: 0.5007\n",
      "79/79 [==============================] - 1s 6ms/step - loss: 1.4513 - accuracy: 0.5007\n",
      "Epoch 1/5\n",
      "235/235 [==============================] - 3s 9ms/step - loss: 1.8973 - accuracy: 0.3370 - val_loss: 1.5512 - val_accuracy: 0.5289\n",
      "Epoch 2/5\n",
      "235/235 [==============================] - 1s 5ms/step - loss: 1.2530 - accuracy: 0.6342 - val_loss: 1.0693 - val_accuracy: 0.6627\n",
      "Epoch 3/5\n",
      "235/235 [==============================] - 1s 5ms/step - loss: 0.9562 - accuracy: 0.6898 - val_loss: 0.9053 - val_accuracy: 0.6937\n",
      "Epoch 4/5\n",
      "235/235 [==============================] - 1s 5ms/step - loss: 0.8418 - accuracy: 0.7159 - val_loss: 0.8250 - val_accuracy: 0.7187\n",
      "Epoch 5/5\n",
      "235/235 [==============================] - 1s 5ms/step - loss: 0.7758 - accuracy: 0.7392 - val_loss: 0.7706 - val_accuracy: 0.7350\n",
      "79/79 [==============================] - 0s 3ms/step - loss: 0.7706 - accuracy: 0.7350\n",
      "Epoch 1/5\n",
      "235/235 [==============================] - 2s 6ms/step - loss: 1.7165 - accuracy: 0.4692 - val_loss: 1.2276 - val_accuracy: 0.6405\n",
      "Epoch 2/5\n",
      "235/235 [==============================] - 1s 4ms/step - loss: 1.0287 - accuracy: 0.6701 - val_loss: 0.9225 - val_accuracy: 0.6840\n",
      "Epoch 3/5\n",
      "235/235 [==============================] - 1s 5ms/step - loss: 0.8450 - accuracy: 0.7124 - val_loss: 0.8132 - val_accuracy: 0.7210\n",
      "Epoch 4/5\n",
      "235/235 [==============================] - 1s 5ms/step - loss: 0.7586 - accuracy: 0.7449 - val_loss: 0.7478 - val_accuracy: 0.7465\n",
      "Epoch 5/5\n",
      "235/235 [==============================] - 2s 10ms/step - loss: 0.7027 - accuracy: 0.7678 - val_loss: 0.6999 - val_accuracy: 0.7668\n",
      "79/79 [==============================] - 1s 9ms/step - loss: 0.6999 - accuracy: 0.7668\n",
      "Epoch 1/5\n",
      "235/235 [==============================] - 8s 24ms/step - loss: 1.5342 - accuracy: 0.5071 - val_loss: 1.0900 - val_accuracy: 0.6534\n",
      "Epoch 2/5\n",
      "235/235 [==============================] - 3s 11ms/step - loss: 0.9375 - accuracy: 0.6985 - val_loss: 0.8547 - val_accuracy: 0.7214\n",
      "Epoch 3/5\n",
      "235/235 [==============================] - 2s 10ms/step - loss: 0.7845 - accuracy: 0.7456 - val_loss: 0.7579 - val_accuracy: 0.7484\n",
      "Epoch 4/5\n",
      "235/235 [==============================] - 2s 10ms/step - loss: 0.7087 - accuracy: 0.7689 - val_loss: 0.7001 - val_accuracy: 0.7646\n",
      "Epoch 5/5\n",
      "235/235 [==============================] - 2s 10ms/step - loss: 0.6603 - accuracy: 0.7851 - val_loss: 0.6605 - val_accuracy: 0.7791\n",
      "79/79 [==============================] - 1s 6ms/step - loss: 0.6605 - accuracy: 0.7791\n",
      "Epoch 1/5\n",
      "235/235 [==============================] - 5s 13ms/step - loss: 1.3846 - accuracy: 0.5865 - val_loss: 0.9970 - val_accuracy: 0.6700\n",
      "Epoch 2/5\n",
      "235/235 [==============================] - 2s 7ms/step - loss: 0.8733 - accuracy: 0.7082 - val_loss: 0.8120 - val_accuracy: 0.7196\n",
      "Epoch 3/5\n",
      "235/235 [==============================] - 1s 6ms/step - loss: 0.7492 - accuracy: 0.7492 - val_loss: 0.7372 - val_accuracy: 0.7405\n",
      "Epoch 4/5\n",
      "235/235 [==============================] - 2s 8ms/step - loss: 0.6834 - accuracy: 0.7745 - val_loss: 0.6779 - val_accuracy: 0.7718\n",
      "Epoch 5/5\n",
      "235/235 [==============================] - 2s 7ms/step - loss: 0.6390 - accuracy: 0.7899 - val_loss: 0.6453 - val_accuracy: 0.7794\n",
      "79/79 [==============================] - 0s 4ms/step - loss: 0.6453 - accuracy: 0.7794\n",
      "Epoch 1/5\n",
      "235/235 [==============================] - 7s 25ms/step - loss: 1.3245 - accuracy: 0.5994 - val_loss: 0.9562 - val_accuracy: 0.6868\n",
      "Epoch 2/5\n",
      "235/235 [==============================] - 2s 9ms/step - loss: 0.8385 - accuracy: 0.7291 - val_loss: 0.7837 - val_accuracy: 0.7368\n",
      "Epoch 3/5\n",
      "235/235 [==============================] - 2s 10ms/step - loss: 0.7213 - accuracy: 0.7688 - val_loss: 0.7054 - val_accuracy: 0.7637\n",
      "Epoch 4/5\n",
      "235/235 [==============================] - 2s 7ms/step - loss: 0.6589 - accuracy: 0.7880 - val_loss: 0.6583 - val_accuracy: 0.7798\n",
      "Epoch 5/5\n",
      "235/235 [==============================] - 2s 8ms/step - loss: 0.6185 - accuracy: 0.8005 - val_loss: 0.6247 - val_accuracy: 0.7900\n",
      "79/79 [==============================] - 0s 4ms/step - loss: 0.6247 - accuracy: 0.7900\n",
      "Epoch 1/5\n",
      "235/235 [==============================] - 4s 14ms/step - loss: 1.2746 - accuracy: 0.6261 - val_loss: 0.9187 - val_accuracy: 0.7059\n",
      "Epoch 2/5\n",
      "235/235 [==============================] - 3s 13ms/step - loss: 0.8091 - accuracy: 0.7438 - val_loss: 0.7552 - val_accuracy: 0.7530\n",
      "Epoch 3/5\n",
      "235/235 [==============================] - 3s 13ms/step - loss: 0.6987 - accuracy: 0.7753 - val_loss: 0.6817 - val_accuracy: 0.7764\n",
      "Epoch 4/5\n",
      "235/235 [==============================] - 4s 17ms/step - loss: 0.6405 - accuracy: 0.7932 - val_loss: 0.6388 - val_accuracy: 0.7897\n",
      "Epoch 5/5\n",
      "235/235 [==============================] - 3s 12ms/step - loss: 0.6024 - accuracy: 0.8038 - val_loss: 0.6081 - val_accuracy: 0.7962\n",
      "79/79 [==============================] - 0s 5ms/step - loss: 0.6081 - accuracy: 0.7962\n"
     ]
    }
   ],
   "source": [
    "# Обучаем двухслойную модель с разным кол-вом нейронов\n",
    "neur = {}\n",
    "for  i in range(1, 9):\n",
    "    \n",
    "    model = Sequential([\n",
    "        Dense(2**i, input_shape=(28 * 28,), activation='relu'),\n",
    "        Dense(10, activation='sigmoid')\n",
    "    ])\n",
    "\n",
    "    model.compile(loss='categorical_crossentropy', optimizer='SGD', metrics=['accuracy'])\n",
    "    history = model.fit(X_train, y_train,\n",
    "                        epochs=5,\n",
    "                        batch_size=256,\n",
    "                        verbose=1,\n",
    "                        validation_data=(X_test, y_test)\n",
    "                        )\n",
    "    loss, metric = model.evaluate(X_test, y_test, batch_size=128)\n",
    "    neur[2**i]= metric"
   ]
  },
  {
   "cell_type": "code",
   "execution_count": 209,
   "id": "de8e5564",
   "metadata": {
    "scrolled": true
   },
   "outputs": [
    {
     "data": {
      "text/plain": [
       "Text(0, 0.5, 'Accuracy')"
      ]
     },
     "execution_count": 209,
     "metadata": {},
     "output_type": "execute_result"
    },
    {
     "data": {
      "image/png": "[encoded data removed]",
      "text/plain": [
       "<Figure size 432x288 with 1 Axes>"
      ]
     },
     "metadata": {
      "needs_background": "light"
     },
     "output_type": "display_data"
    }
   ],
   "source": [
    "plt.plot(list(neur.keys()),list(neur.values()), 'b')\n",
    "plt.xlabel('Number of Neurons')\n",
    "plt.ylabel('Accuracy')"
   ]
  },
  {
   "cell_type": "markdown",
   "id": "3419cfbc",
   "metadata": {},
   "source": [
    "Чем больше нейронов в слое, тем лучше метрика. Но где-то после 50 нейронов метрика растёт незначительно. Оставим 100 нейронов, чтобы не перегружать модель."
   ]
  },
  {
   "cell_type": "code",
   "execution_count": 210,
   "id": "e3c77e74",
   "metadata": {},
   "outputs": [
    {
     "name": "stdout",
     "output_type": "stream",
     "text": [
      "Model: \"sequential_54\"\n",
      "_________________________________________________________________\n",
      " Layer (type)                Output Shape              Param #   \n",
      "=================================================================\n",
      " dense_179 (Dense)           (None, 100)               78500     \n",
      "                                                                 \n",
      " dense_180 (Dense)           (None, 10)                1010      \n",
      "                                                                 \n",
      "=================================================================\n",
      "Total params: 79,510\n",
      "Trainable params: 79,510\n",
      "Non-trainable params: 0\n",
      "_________________________________________________________________\n",
      "Epoch 1/5\n",
      "235/235 [==============================] - 3s 7ms/step - loss: 1.3262 - accuracy: 0.6158 - val_loss: 0.9427 - val_accuracy: 0.6970\n",
      "Epoch 2/5\n",
      "235/235 [==============================] - 1s 5ms/step - loss: 0.8279 - accuracy: 0.7374 - val_loss: 0.7736 - val_accuracy: 0.7454\n",
      "Epoch 3/5\n",
      "235/235 [==============================] - 2s 8ms/step - loss: 0.7149 - accuracy: 0.7711 - val_loss: 0.6973 - val_accuracy: 0.7691\n",
      "Epoch 4/5\n",
      "235/235 [==============================] - 2s 8ms/step - loss: 0.6555 - accuracy: 0.7887 - val_loss: 0.6523 - val_accuracy: 0.7802\n",
      "Epoch 5/5\n",
      "235/235 [==============================] - 2s 7ms/step - loss: 0.6164 - accuracy: 0.8012 - val_loss: 0.6220 - val_accuracy: 0.7905\n",
      "79/79 [==============================] - 0s 3ms/step - loss: 0.6220 - accuracy: 0.7905\n",
      "Model: \"sequential_55\"\n",
      "_________________________________________________________________\n",
      " Layer (type)                Output Shape              Param #   \n",
      "=================================================================\n",
      " dense_181 (Dense)           (None, 100)               78500     \n",
      "                                                                 \n",
      " dense_182 (Dense)           (None, 100)               10100     \n",
      "                                                                 \n",
      " dense_183 (Dense)           (None, 10)                1010      \n",
      "                                                                 \n",
      "=================================================================\n",
      "Total params: 89,610\n",
      "Trainable params: 89,610\n",
      "Non-trainable params: 0\n",
      "_________________________________________________________________\n",
      "Epoch 1/5\n",
      "235/235 [==============================] - 3s 9ms/step - loss: 1.4111 - accuracy: 0.5928 - val_loss: 0.9568 - val_accuracy: 0.6933\n",
      "Epoch 2/5\n",
      "235/235 [==============================] - 2s 7ms/step - loss: 0.8144 - accuracy: 0.7405 - val_loss: 0.7497 - val_accuracy: 0.7423\n",
      "Epoch 3/5\n",
      "235/235 [==============================] - 2s 9ms/step - loss: 0.6814 - accuracy: 0.7767 - val_loss: 0.6651 - val_accuracy: 0.7711\n",
      "Epoch 4/5\n",
      "235/235 [==============================] - 2s 7ms/step - loss: 0.6167 - accuracy: 0.7948 - val_loss: 0.6139 - val_accuracy: 0.7907\n",
      "Epoch 5/5\n",
      "235/235 [==============================] - 2s 7ms/step - loss: 0.5767 - accuracy: 0.8084 - val_loss: 0.5882 - val_accuracy: 0.7985\n",
      "79/79 [==============================] - 0s 4ms/step - loss: 0.5882 - accuracy: 0.7985\n",
      "Model: \"sequential_56\"\n",
      "_________________________________________________________________\n",
      " Layer (type)                Output Shape              Param #   \n",
      "=================================================================\n",
      " dense_184 (Dense)           (None, 100)               78500     \n",
      "                                                                 \n",
      " dense_185 (Dense)           (None, 100)               10100     \n",
      "                                                                 \n",
      " dense_186 (Dense)           (None, 100)               10100     \n",
      "                                                                 \n",
      " dense_187 (Dense)           (None, 100)               10100     \n",
      "                                                                 \n",
      " dense_188 (Dense)           (None, 10)                1010      \n",
      "                                                                 \n",
      "=================================================================\n",
      "Total params: 109,810\n",
      "Trainable params: 109,810\n",
      "Non-trainable params: 0\n",
      "_________________________________________________________________\n",
      "Epoch 1/5\n",
      "235/235 [==============================] - 4s 13ms/step - loss: 1.7961 - accuracy: 0.4383 - val_loss: 1.1337 - val_accuracy: 0.6360\n",
      "Epoch 2/5\n",
      "235/235 [==============================] - 2s 9ms/step - loss: 0.8849 - accuracy: 0.7030 - val_loss: 0.7810 - val_accuracy: 0.7278\n",
      "Epoch 3/5\n",
      "235/235 [==============================] - 2s 10ms/step - loss: 0.6981 - accuracy: 0.7582 - val_loss: 0.7484 - val_accuracy: 0.7301\n",
      "Epoch 4/5\n",
      "235/235 [==============================] - 2s 9ms/step - loss: 0.6224 - accuracy: 0.7812 - val_loss: 0.6309 - val_accuracy: 0.7717\n",
      "Epoch 5/5\n",
      "235/235 [==============================] - 2s 8ms/step - loss: 0.5777 - accuracy: 0.7959 - val_loss: 0.5856 - val_accuracy: 0.7953\n",
      "79/79 [==============================] - 1s 6ms/step - loss: 0.5856 - accuracy: 0.7953\n",
      "Model: \"sequential_57\"\n",
      "_________________________________________________________________\n",
      " Layer (type)                Output Shape              Param #   \n",
      "=================================================================\n",
      " dense_189 (Dense)           (None, 100)               78500     \n",
      "                                                                 \n",
      " dense_190 (Dense)           (None, 100)               10100     \n",
      "                                                                 \n",
      " dense_191 (Dense)           (None, 100)               10100     \n",
      "                                                                 \n",
      " dense_192 (Dense)           (None, 100)               10100     \n",
      "                                                                 \n",
      " dense_193 (Dense)           (None, 100)               10100     \n",
      "                                                                 \n",
      " dense_194 (Dense)           (None, 100)               10100     \n",
      "                                                                 \n",
      " dense_195 (Dense)           (None, 100)               10100     \n",
      "                                                                 \n",
      " dense_196 (Dense)           (None, 100)               10100     \n",
      "                                                                 \n",
      " dense_197 (Dense)           (None, 100)               10100     \n",
      "                                                                 \n",
      " dense_198 (Dense)           (None, 10)                1010      \n",
      "                                                                 \n",
      "=================================================================\n",
      "Total params: 160,310\n",
      "Trainable params: 160,310\n",
      "Non-trainable params: 0\n",
      "_________________________________________________________________\n",
      "Epoch 1/5\n",
      "235/235 [==============================] - 4s 14ms/step - loss: 2.2658 - accuracy: 0.3254 - val_loss: 2.1848 - val_accuracy: 0.4138\n",
      "Epoch 2/5\n",
      "235/235 [==============================] - 3s 12ms/step - loss: 1.7109 - accuracy: 0.4566 - val_loss: 1.1624 - val_accuracy: 0.5879\n",
      "Epoch 3/5\n",
      "235/235 [==============================] - 3s 13ms/step - loss: 0.9603 - accuracy: 0.6320 - val_loss: 0.8568 - val_accuracy: 0.6680\n",
      "Epoch 4/5\n",
      "235/235 [==============================] - 4s 15ms/step - loss: 0.7709 - accuracy: 0.7100 - val_loss: 0.7198 - val_accuracy: 0.7320\n",
      "Epoch 5/5\n",
      "235/235 [==============================] - 4s 17ms/step - loss: 0.6890 - accuracy: 0.7440 - val_loss: 0.6580 - val_accuracy: 0.7604\n",
      "79/79 [==============================] - 0s 5ms/step - loss: 0.6580 - accuracy: 0.7604\n"
     ]
    }
   ],
   "source": [
    "# Обучаем модель с разным кол-вом слоёв\n",
    "lay = {}\n",
    "for  i in [2,3,5,10]:\n",
    "    \n",
    "    model = Sequential()\n",
    "    for k in range(1,i):\n",
    "        model.add(Dense(100, input_shape=(28 * 28,), activation='relu'))\n",
    "    model.add(Dense(10, activation='sigmoid'))\n",
    "    model.summary()\n",
    "\n",
    "    model.compile(loss='categorical_crossentropy', optimizer='SGD', metrics=['accuracy'])\n",
    "    history = model.fit(X_train, y_train,\n",
    "                        epochs=5,\n",
    "                        batch_size=256,\n",
    "                        verbose=1,\n",
    "                        validation_data=(X_test, y_test)\n",
    "                        )\n",
    "    loss, metric = model.evaluate(X_test, y_test, batch_size=128)\n",
    "    lay[i]= metric"
   ]
  },
  {
   "cell_type": "code",
   "execution_count": 211,
   "id": "c8fde718",
   "metadata": {},
   "outputs": [
    {
     "data": {
      "text/plain": [
       "Text(0, 0.5, 'Accuracy')"
      ]
     },
     "execution_count": 211,
     "metadata": {},
     "output_type": "execute_result"
    },
    {
     "data": {
      "image/png": "[encoded data removed]",
      "text/plain": [
       "<Figure size 432x288 with 1 Axes>"
      ]
     },
     "metadata": {
      "needs_background": "light"
     },
     "output_type": "display_data"
    }
   ],
   "source": [
    "plt.plot(list(lay.keys()),list(lay.values()),'r')\n",
    "plt.xlabel('Number of Layers')\n",
    "plt.ylabel('Accuracy')"
   ]
  },
  {
   "cell_type": "markdown",
   "id": "b5dc2062",
   "metadata": {},
   "source": [
    "Лучшая метрика - у трёхслойной модели."
   ]
  },
  {
   "cell_type": "code",
   "execution_count": 212,
   "id": "e78681ac",
   "metadata": {},
   "outputs": [
    {
     "name": "stdout",
     "output_type": "stream",
     "text": [
      "Epoch 1/5\n",
      "235/235 [==============================] - 3s 8ms/step - loss: 1.6057 - accuracy: 0.4973 - val_loss: 1.0902 - val_accuracy: 0.6734\n",
      "Epoch 2/5\n",
      "235/235 [==============================] - 1s 6ms/step - loss: 0.9041 - accuracy: 0.7213 - val_loss: 0.8068 - val_accuracy: 0.7409\n",
      "Epoch 3/5\n",
      "235/235 [==============================] - 1s 6ms/step - loss: 0.7356 - accuracy: 0.7634 - val_loss: 0.7129 - val_accuracy: 0.7562\n",
      "Epoch 4/5\n",
      "235/235 [==============================] - 2s 9ms/step - loss: 0.6565 - accuracy: 0.7850 - val_loss: 0.6465 - val_accuracy: 0.7827\n",
      "Epoch 5/5\n",
      "235/235 [==============================] - 3s 12ms/step - loss: 0.6068 - accuracy: 0.8000 - val_loss: 0.6043 - val_accuracy: 0.7961\n",
      "79/79 [==============================] - 1s 8ms/step - loss: 0.6043 - accuracy: 0.7961\n",
      "Epoch 1/5\n",
      "235/235 [==============================] - 2s 8ms/step - loss: 0.5800 - accuracy: 0.8072 - val_loss: 0.5948 - val_accuracy: 0.8009\n",
      "Epoch 2/5\n",
      "235/235 [==============================] - 2s 7ms/step - loss: 0.5712 - accuracy: 0.8096 - val_loss: 0.5878 - val_accuracy: 0.8028\n",
      "Epoch 3/5\n",
      "235/235 [==============================] - 2s 7ms/step - loss: 0.5637 - accuracy: 0.8116 - val_loss: 0.5805 - val_accuracy: 0.8044\n",
      "Epoch 4/5\n",
      "235/235 [==============================] - 2s 9ms/step - loss: 0.5570 - accuracy: 0.8134 - val_loss: 0.5749 - val_accuracy: 0.8062\n",
      "Epoch 5/5\n",
      "235/235 [==============================] - 2s 7ms/step - loss: 0.5509 - accuracy: 0.8151 - val_loss: 0.5694 - val_accuracy: 0.8053\n",
      "79/79 [==============================] - 0s 3ms/step - loss: 0.5694 - accuracy: 0.8053\n",
      "Epoch 1/5\n",
      "235/235 [==============================] - 3s 8ms/step - loss: 0.5409 - accuracy: 0.8097 - val_loss: 0.5184 - val_accuracy: 0.8144\n",
      "Epoch 2/5\n",
      "235/235 [==============================] - 1s 6ms/step - loss: 0.4500 - accuracy: 0.8398 - val_loss: 0.4672 - val_accuracy: 0.8322\n",
      "Epoch 3/5\n",
      "235/235 [==============================] - 2s 7ms/step - loss: 0.4053 - accuracy: 0.8536 - val_loss: 0.4441 - val_accuracy: 0.8428\n",
      "Epoch 4/5\n",
      "235/235 [==============================] - 3s 11ms/step - loss: 0.3778 - accuracy: 0.8627 - val_loss: 0.3954 - val_accuracy: 0.8611\n",
      "Epoch 5/5\n",
      "235/235 [==============================] - 2s 7ms/step - loss: 0.3553 - accuracy: 0.8709 - val_loss: 0.3912 - val_accuracy: 0.8570\n",
      "79/79 [==============================] - 0s 3ms/step - loss: 0.3912 - accuracy: 0.8570\n",
      "Epoch 1/5\n",
      "235/235 [==============================] - 3s 9ms/step - loss: 0.3234 - accuracy: 0.8822 - val_loss: 0.3764 - val_accuracy: 0.8635\n",
      "Epoch 2/5\n",
      "235/235 [==============================] - 2s 8ms/step - loss: 0.3071 - accuracy: 0.8864 - val_loss: 0.3565 - val_accuracy: 0.8729\n",
      "Epoch 3/5\n",
      "235/235 [==============================] - 3s 15ms/step - loss: 0.2973 - accuracy: 0.8910 - val_loss: 0.3854 - val_accuracy: 0.8588\n",
      "Epoch 4/5\n",
      "235/235 [==============================] - 3s 12ms/step - loss: 0.2881 - accuracy: 0.8939 - val_loss: 0.3595 - val_accuracy: 0.8682\n",
      "Epoch 5/5\n",
      "235/235 [==============================] - 3s 14ms/step - loss: 0.2779 - accuracy: 0.8974 - val_loss: 0.3466 - val_accuracy: 0.8733\n",
      "79/79 [==============================] - 1s 8ms/step - loss: 0.3466 - accuracy: 0.8733\n"
     ]
    }
   ],
   "source": [
    "# Обучаем модель с разными оптимизаторами\n",
    "optim = {}\n",
    "opt = [optimizers.gradient_descent_v2.SGD(),\n",
    "              optimizers.adagrad_v2.Adagrad(),\n",
    "              optimizers.rmsprop_v2.RMSprop(),\n",
    "              optimizers.adam_v2.Adam()]\n",
    "model = Sequential([\n",
    "        Dense(50, input_shape=(28 * 28,), activation='relu'),\n",
    "        Dense(50, input_shape=(28 * 28,), activation='relu'),\n",
    "        Dense(10, activation='sigmoid')\n",
    "    ])\n",
    "for i in opt:\n",
    "    model.compile(loss='categorical_crossentropy', optimizer=i, metrics=['accuracy'])\n",
    "    history = model.fit(X_train, y_train,\n",
    "                            epochs=5,\n",
    "                            batch_size=256,\n",
    "                            verbose=1,\n",
    "                            validation_data=(X_test, y_test)\n",
    "                            )\n",
    "    loss, metric = model.evaluate(X_test, y_test, batch_size=128)\n",
    "    name = str(i).split(' ')[0].split('.')[-1]\n",
    "    optim[name] = metric\n"
   ]
  },
  {
   "cell_type": "code",
   "execution_count": 213,
   "id": "865c9f26",
   "metadata": {},
   "outputs": [
    {
     "data": {
      "text/plain": [
       "Text(0, 0.5, 'Accuracy')"
      ]
     },
     "execution_count": 213,
     "metadata": {},
     "output_type": "execute_result"
    },
    {
     "data": {
      "image/png": "[encoded data removed]",
      "text/plain": [
       "<Figure size 432x288 with 1 Axes>"
      ]
     },
     "metadata": {
      "needs_background": "light"
     },
     "output_type": "display_data"
    }
   ],
   "source": [
    "plt.plot(list(optim.keys()),list(optim.values()),'c')\n",
    "plt.xlabel('Optimizers')\n",
    "plt.ylabel('Accuracy')"
   ]
  },
  {
   "cell_type": "markdown",
   "id": "43e8103d",
   "metadata": {},
   "source": [
    "Adam показал лучший результат. Причем разница между Adam и SGD приличная, около 10%"
   ]
  },
  {
   "cell_type": "code",
   "execution_count": 214,
   "id": "cc462750",
   "metadata": {},
   "outputs": [
    {
     "name": "stdout",
     "output_type": "stream",
     "text": [
      "Epoch 1/5\n",
      "235/235 [==============================] - 4s 12ms/step - loss: 0.6189 - accuracy: 0.7901 - val_loss: 0.4882 - val_accuracy: 0.8284\n",
      "Epoch 2/5\n",
      "235/235 [==============================] - 2s 9ms/step - loss: 0.4112 - accuracy: 0.8546 - val_loss: 0.4218 - val_accuracy: 0.8521\n",
      "Epoch 3/5\n",
      "235/235 [==============================] - 3s 11ms/step - loss: 0.3697 - accuracy: 0.8680 - val_loss: 0.4080 - val_accuracy: 0.8576\n",
      "Epoch 4/5\n",
      "235/235 [==============================] - 2s 11ms/step - loss: 0.3412 - accuracy: 0.8762 - val_loss: 0.3958 - val_accuracy: 0.8589\n",
      "Epoch 5/5\n",
      "235/235 [==============================] - 2s 10ms/step - loss: 0.3243 - accuracy: 0.8838 - val_loss: 0.3606 - val_accuracy: 0.8705\n",
      "79/79 [==============================] - 0s 3ms/step - loss: 0.3606 - accuracy: 0.8705\n"
     ]
    }
   ],
   "source": [
    "# Обучаем финальную модель с 3 слоями, 100 нейронами и оптимизатором Adam\n",
    "model = Sequential([\n",
    "        Dense(100, input_shape=(28 * 28,), activation='relu'),\n",
    "        Dense(100, input_shape=(28 * 28,), activation='relu'),\n",
    "        Dense(10, activation='sigmoid')\n",
    "    ])\n",
    "\n",
    "model.compile(loss='categorical_crossentropy', optimizer=optimizers.adam_v2.Adam(), metrics=['accuracy'])\n",
    "history = model.fit(X_train, y_train,\n",
    "                            epochs=5,\n",
    "                            batch_size=256,\n",
    "                            verbose=1,\n",
    "                            validation_data=(X_test, y_test)\n",
    "                            )\n",
    "loss, metric = model.evaluate(X_test, y_test, batch_size=128)"
   ]
  },
  {
   "cell_type": "code",
   "execution_count": 215,
   "id": "835c41f0",
   "metadata": {},
   "outputs": [
    {
     "name": "stdout",
     "output_type": "stream",
     "text": [
      "313/313 [==============================] - 1s 3ms/step\n"
     ]
    }
   ],
   "source": [
    "y_pred = model.predict(X_test)"
   ]
  },
  {
   "cell_type": "code",
   "execution_count": 216,
   "id": "0161ba9d",
   "metadata": {},
   "outputs": [],
   "source": [
    "y_pred_class = np.argmax(y_pred, axis=1)"
   ]
  },
  {
   "cell_type": "code",
   "execution_count": 217,
   "id": "d91741a1",
   "metadata": {},
   "outputs": [],
   "source": [
    "y_test_class = np.argmax(y_test, axis=1)"
   ]
  },
  {
   "cell_type": "code",
   "execution_count": 219,
   "id": "f55b9af5",
   "metadata": {},
   "outputs": [
    {
     "data": {
      "image/png": "[encoded data removed]",
      "text/plain": [
       "<Figure size 720x720 with 2 Axes>"
      ]
     },
     "metadata": {
      "needs_background": "light"
     },
     "output_type": "display_data"
    }
   ],
   "source": [
    "# Визуализируем матрицу ошибок\n",
    "cm=confusion_matrix(y_test_class,y_pred_class)\n",
    "disp = ConfusionMatrixDisplay(cm, display_labels=class_names)\n",
    "fig, ax = plt.subplots(figsize=(10, 10))\n",
    "disp.plot(ax=ax)\n",
    "plt.show()"
   ]
  },
  {
   "cell_type": "code",
   "execution_count": 178,
   "id": "d564f501",
   "metadata": {},
   "outputs": [],
   "source": [
    "unique_test, counts_test = np.unique(y_test_class, return_counts=True)\n",
    "unique_pred, counts_pred = np.unique(y_pred_class, return_counts=True)"
   ]
  },
  {
   "cell_type": "code",
   "execution_count": 179,
   "id": "f56761c2",
   "metadata": {},
   "outputs": [],
   "source": [
    "# Рассчитываем полноту и точность для классов\n",
    "recall = {}\n",
    "precision = {}\n",
    "trues = []\n",
    "for i in range(len(y_test_class)):\n",
    "    if y_test_class[i]==y_pred_class[i]:\n",
    "        trues.append(y_test_class[i])\n",
    "        \n",
    "for i in range(10):\n",
    "    recall[i] = trues.count(i) * 100 / counts_test[i]\n",
    "    precision[i] = trues.count(i) * 100 / counts_pred[i]\n"
   ]
  },
  {
   "cell_type": "code",
   "execution_count": 220,
   "id": "192ed5e6",
   "metadata": {},
   "outputs": [
    {
     "data": {
      "image/png": "[encoded data removed]",
      "text/plain": [
       "<Figure size 1440x432 with 1 Axes>"
      ]
     },
     "metadata": {
      "needs_background": "light"
     },
     "output_type": "display_data"
    }
   ],
   "source": [
    "x = np.arange(10)#list(recall.keys()))\n",
    "fig, ax = plt.subplots(figsize=(20, 6))\n",
    "plt.bar (x-0.17, list(recall.values()), color='blue', alpha=1,width=0.3,label='Recall')\n",
    "plt.bar (x+0.17, list(precision.values()), alpha=1,color='cyan', width=0.3,label='Precision')\n",
    "plt.legend()\n",
    "ax.set_xticks(x)\n",
    "ax.set_xticklabels(class_names)\n",
    "plt.show()"
   ]
  },
  {
   "cell_type": "markdown",
   "id": "e33d1d17",
   "metadata": {},
   "source": [
    "Больше всего сложностей возникло с рубашками.<br>\n",
    "В случае пальто - сетка определила почти все пальто, но точность низковата - что-то другое приняла за пальто.<br>\n",
    "Пуловеры - наоборот. Определила не все, но зато более менее точно.\n"
   ]
  }
 ],
 "metadata": {
  "kernelspec": {
   "display_name": "Python 3 (ipykernel)",
   "language": "python",
   "name": "python3"
  },
  "language_info": {
   "codemirror_mode": {
    "name": "ipython",
    "version": 3
   },
   "file_extension": ".py",
   "mimetype": "text/x-python",
   "name": "python",
   "nbconvert_exporter": "python",
   "pygments_lexer": "ipython3",
   "version": "3.9.6"
  }
 },
 "nbformat": 4,
 "nbformat_minor": 5
}
