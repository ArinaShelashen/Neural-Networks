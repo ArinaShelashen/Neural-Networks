{
  "nbformat": 4,
  "nbformat_minor": 0,
  "metadata": {
    "colab": {
      "provenance": [],
      "collapsed_sections": []
    },
    "kernelspec": {
      "name": "python3",
      "display_name": "Python 3"
    },
    "language_info": {
      "name": "python"
    }
  },
  "cells": [
    {
      "cell_type": "markdown",
      "source": [
        "### HW1 Arina Shelashen\n",
        "1.Попробуйте видоизменить параметры разобранной на уроке двухслойной нейронной сети таким образом, чтобы улучшить ее точность.<br>\n",
        "2.Проведите анализ — что приводит к ухудшению точности нейронной сети?<br>\n",
        "3.Что приводит к увеличению ее точности?<br><br>\n",
        "*Решение:*\n",
        "1. В работе была исследована зависимость метрики *accuracy* от скорости обучения, кол-ва итераций, кол-ва нейронов. Построены графики зависимости.\n",
        "2. Слишком большая и слишком малая скорость обучения приводит к ухудшению точности. Оптимум - 0.01 .\n",
        "3. Увеличение кол-ва итераций и кол-ва нейронов приводит к улучшению метрики. Наилучшие параметры: 3000 итераций, 20 нейронов. Но есть подозрение на переобучение."
                ],
      "metadata": {
        "id": "i8Wx4_xHVSRT"
      }
    },
    {
      "cell_type": "code",
      "source": [
        "import numpy as np\n",
        "import pandas as pd\n",
        "import seaborn as sns\n",
        "import matplotlib.pyplot as plt\n",
        "\n",
        "import warnings\n",
        "warnings.filterwarnings('ignore')\n",
        "\n",
        "from sklearn.model_selection import train_test_split\n",
        "from sklearn.datasets import load_digits\n",
        "from sklearn.preprocessing import MinMaxScaler"
      ],
      "metadata": {
        "id": "HvDaTgYDM7lk"
      },
      "execution_count": 2,
      "outputs": []
    },
    {
      "cell_type": "code",
      "source": [
        "def sigmoid(x):\n",
        "    return 1 / (1 + np.exp(-x))\n",
        "\n",
        "def sigmoid_deriv(x):\n",
        "    return sigmoid(x) * (1 - sigmoid(x))\n",
        "\n",
        "def to_one_hot(Y):\n",
        "    n_col = np.max(Y) + 1\n",
        "    binarized = np.zeros((len(Y), n_col))\n",
        "    for i in range(len(Y)):\n",
        "        binarized[i, Y[i]] = 1\n",
        "    return binarized"
      ],
      "metadata": {
        "id": "TYor9jKXNIYr"
      },
      "execution_count": 3,
      "outputs": []
    },
    {
      "cell_type": "code",
      "source": [
        "X, y = load_digits(return_X_y=True)\n",
        "# формирование входных данных\n",
        "scaler = MinMaxScaler()\n",
        "X = scaler.fit_transform(X)\n",
        "\n",
        "# формирование выходных данных(результатов)\n",
        "y = y.flatten()\n",
        "y = to_one_hot(y)"
      ],
      "metadata": {
        "colab": {
          "base_uri": "https://localhost:8080/",
          "height": 156
        },
        "id": "qAKQyj53NZA9",
        "outputId": "08c12bde-9615-4f95-c03e-322401d0b11d"
      },
      "execution_count": 4,
      "outputs": [
        {
          "output_type": "display_data",
          "data": {
            "text/plain": [
              "array([[1., 0., 0., ..., 0., 0., 0.],\n",
              "       [0., 1., 0., ..., 0., 0., 0.],\n",
              "       [0., 0., 1., ..., 0., 0., 0.],\n",
              "       ...,\n",
              "       [0., 0., 0., ..., 0., 1., 0.],\n",
              "       [0., 0., 0., ..., 0., 0., 1.],\n",
              "       [0., 0., 0., ..., 0., 1., 0.]])"
            ]
          },
          "metadata": {}
        },
        {
          "output_type": "display_data",
          "data": {
            "text/plain": [
              "(1797, 10)"
            ]
          },
          "metadata": {}
        }
      ]
    },
    {
      "cell_type": "code",
      "source": [
        "X_train, X_test, y_train, y_test = train_test_split(X, y, test_size=0.33)\n",
        "X_train.shape, X_test.shape"
      ],
      "metadata": {
        "colab": {
          "base_uri": "https://localhost:8080/"
        },
        "id": "sFE2Ie01Nu4j",
        "outputId": "2b5dfdbd-70cb-4183-9f5d-24256d28a006"
      },
      "execution_count": 5,
      "outputs": [
        {
          "output_type": "execute_result",
          "data": {
            "text/plain": [
              "((1203, 64), (594, 64))"
            ]
          },
          "metadata": {},
          "execution_count": 5
        }
      ]
    },
    {
      "cell_type": "code",
      "source": [
        "l_rate = {}\n",
        "epochs = {}\n",
        "neuron = {}"
      ],
      "metadata": {
        "id": "9YM3FnuSOpr8"
      },
      "execution_count": 81,
      "outputs": []
    },
    {
      "cell_type": "code",
      "source": [
        "# Обучение нейронной сети\n",
        "\n",
        "# определим число нейронов скрытого слоя\n",
        "neuron_numb = 30\n",
        "\n",
        "# присваивание случайных весов\n",
        "np.random.seed(1)\n",
        "w0 = np.random.random((64, neuron_numb))  # для входного слоя    - 64 входа, neuron_numb выходов\n",
        "w1 = np.random.random((neuron_numb, 10))  # для внутреннего слоя - neuron_numb входов, 10 выходов\n",
        "\n",
        "# скорость обучения (learning rate)\n",
        "learning_rate = 0.01\n",
        "\n",
        "# количество итераций\n",
        "num_epochs = 1000\n",
        "\n",
        "# массив для ошибок, чтобы потом построить график\n",
        "errors = []\n",
        "metrics = []\n",
        "\n",
        "# процесс обучения\n",
        "for i in range(num_epochs):\n",
        "\n",
        "    # прямое распространение(feed forward)\n",
        "    layer0 = X_train\n",
        "    layer1 = sigmoid(np.dot(layer0, w0))\n",
        "    layer2 = sigmoid(np.dot(layer1, w1))\n",
        "\n",
        "    # обратное распространение (back propagation)\n",
        "    # с использованием градиентного спуска\n",
        "    layer2_error = layer2 - y_train  # производная функции потерь\n",
        "    layer2_grad = layer2_error * sigmoid_deriv(layer2)\n",
        "    \n",
        "    layer1_error = layer2_grad.dot(w1.T)\n",
        "    layer1_grad = layer1_error * sigmoid_deriv(layer1)\n",
        "    \n",
        "    w1 -= layer1.T.dot(layer2_grad) * learning_rate\n",
        "    w0 -= layer0.T.dot(layer1_grad) * learning_rate\n",
        "    \n",
        "    # ошибка модели\n",
        "    error = np.mean(np.abs(layer2_error))\n",
        "    errors.append(error)\n",
        "    \n",
        "    # метрики качества\n",
        "    preds = np.argmax(layer2, axis=1)\n",
        "    labels = np.argmax(y_train, axis=1)\n",
        "    accuracy = (preds == labels).sum() * 100 / len(labels)\n",
        "    metrics.append(accuracy)\n",
        "\n",
        "# neuron[neuron_numb] = round(metrics[-1], 3)"
      ],
      "metadata": {
        "id": "p99mtRzENBC1"
      },
      "execution_count": 91,
      "outputs": []
    },
    {
      "cell_type": "code",
      "source": [
        "\n",
        "plt.figure(figsize=(16, 5))\n",
        "plt.plot(list(l_rate.keys()), list(l_rate.values()),'r')\n",
        "\n",
        "plt.xlabel('Learning Rate')\n",
        "plt.ylabel('Accuracy')\n",
        "plt.show()"
      ],
      "metadata": {
        "colab": {
          "base_uri": "https://localhost:8080/",
          "height": 334
        },
        "id": "dsVJO9NGPlOI",
        "outputId": "7e90f159-da88-446b-bafc-c33511c0c52d"
      },
      "execution_count": 55,
      "outputs": [
        {
          "output_type": "display_data",
          "data": {
            "text/plain": [
              "<Figure size 1152x360 with 1 Axes>"
            ],
            "image/png": "[encoded data removed]"
          },
          "metadata": {
            "needs_background": "light"
          }
        }
      ]
    },
    {
      "cell_type": "code",
      "source": [
        "\n",
        "plt.figure(figsize=(16, 5))\n",
        "plt.plot(list(epochs.keys()), list(epochs.values()),'b')\n",
        "\n",
        "plt.xlabel('Iterations')\n",
        "plt.ylabel('Accuracy')\n",
        "plt.show()"
      ],
      "metadata": {
        "colab": {
          "base_uri": "https://localhost:8080/",
          "height": 334
        },
        "id": "EWwyHYYqSVeF",
        "outputId": "9853bebe-2ac8-4bc6-9168-700e23045a67"
      },
      "execution_count": 69,
      "outputs": [
        {
          "output_type": "display_data",
          "data": {
            "text/plain": [
              "<Figure size 1152x360 with 1 Axes>"
            ],
            "image/png": "[encoded data removed]"
          },
          "metadata": {
            "needs_background": "light"
          }
        }
      ]
    },
    {
      "cell_type": "code",
      "source": [
        "plt.figure(figsize=(16, 5))\n",
        "plt.plot(list(neuron.keys()), list(neuron.values()),'y')\n",
        "\n",
        "plt.xlabel('Number of Neurons')\n",
        "plt.ylabel('Accuracy')\n",
        "plt.show()"
      ],
      "metadata": {
        "colab": {
          "base_uri": "https://localhost:8080/",
          "height": 334
        },
        "id": "Z5BYXYpnS5Yz",
        "outputId": "67df8e79-62a8-41b6-8d41-6cb6043e76e1"
      },
      "execution_count": 92,
      "outputs": [
        {
          "output_type": "display_data",
          "data": {
            "text/plain": [
              "<Figure size 1152x360 with 1 Axes>"
            ],
            "image/png": "[encoded data removed]"
          },
          "metadata": {
            "needs_background": "light"
          }
        }
      ]
    }
  ]
}
