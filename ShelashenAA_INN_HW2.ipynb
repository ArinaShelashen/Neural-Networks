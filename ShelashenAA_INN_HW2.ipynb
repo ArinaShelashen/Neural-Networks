{
 "cells": [
  {
   "cell_type": "markdown",
   "id": "54d000c3",
   "metadata": {},
   "source": [
    "1.Попробуйте обучить, нейронную сеть на Keras (рассмотренную на уроке) на датасете MNIST с другими параметрами. Напишите в комментарии к уроку:<br>\n",
    "2.Какого результата вы добились от нейросети?<br>\n",
    "3.Что помогло вам улучшить её точность?<br>\n",
    "4.Поработайте с документацией Keras. Попробуйте найти полезные команды Keras, неразобранные на уроке."
   ]
  },
  {
   "cell_type": "markdown",
   "id": "fde3c44f",
   "metadata": {},
   "source": [
    "**Ниже представлены результаты моделей с различными значениями кол-ва слоёв, эпох, оптимизаторов и размера бэтча.<br>\n",
    "Лучшие значения показывал в основном оптимизатор Adam (рассматривались также SDG, Adagrad, RMSprop). + смотрела Ftrl, но там всё грустно. Вероятно потому, что оптимизитор разработан для разреженных данных**<br><br>\n",
    "\n",
    "Кол-во слоёв (3,4,6) влияли на результат незначительно (на графике зависимость имеется, но в пределах погрешности)<br><br>\n",
    "\n",
    "Чем больше эпох, тем лучше (но наверное где-то выйдет на плато + будет переобучение, рассматривались небольшие значения, макс 15)<br><br>\n",
    "\n",
    "Размер бэтча лучше брать небольшой, что логично, своего рода бэггинг получается<br><br>\n",
    "\n",
    "Потом исследовалось влияние количества нейронов на входном слое, но там получились неоднозначные результаты, нужны доп проверки<br><br>\n",
    "\n",
    "Модель справилась неплохо, путала в основном то, что путают и люди: майки-рубашки-пуловеры-платья. **Accuracy: 88.6%**\n",
    "\n",
    "\n"
   ]
  },
  {
   "cell_type": "code",
   "execution_count": 217,
   "id": "eb7e86eb",
   "metadata": {},
   "outputs": [],
   "source": [
    "import numpy as np\n",
    "import pandas as pd\n",
    "import keras\n",
    "from keras.models import Sequential\n",
    "from keras.layers import Dense\n",
    "from keras.datasets import fashion_mnist\n",
    "from keras.utils import to_categorical\n",
    "from sklearn.model_selection import ParameterGrid\n",
    "import matplotlib.pyplot as plt\n",
    "from sklearn.metrics import confusion_matrix, ConfusionMatrixDisplay"
   ]
  },
  {
   "cell_type": "code",
   "execution_count": 180,
   "id": "53ce5c51",
   "metadata": {},
   "outputs": [],
   "source": [
    "(train_img, train_labels), (test_img, test_labels) = fashion_mnist.load_data()"
   ]
  },
  {
   "cell_type": "code",
   "execution_count": 181,
   "id": "8e25c136",
   "metadata": {},
   "outputs": [
    {
     "data": {
      "text/plain": [
       "(60000, 28, 28)"
      ]
     },
     "execution_count": 181,
     "metadata": {},
     "output_type": "execute_result"
    }
   ],
   "source": [
    "train_img.shape"
   ]
  },
  {
   "cell_type": "code",
   "execution_count": 182,
   "id": "d9f9124e",
   "metadata": {},
   "outputs": [],
   "source": [
    "#Normalize images\n",
    "train_img = (train_img / 255) - 0.5\n",
    "test_img = (test_img / 255) - 0.5"
   ]
  },
  {
   "cell_type": "code",
   "execution_count": 183,
   "id": "e627439c",
   "metadata": {},
   "outputs": [],
   "source": [
    "#Flatten imgs\n",
    "train_img = train_img.reshape((-1,28*28))\n",
    "test_img = test_img.reshape((-1,28*28))"
   ]
  },
  {
   "cell_type": "code",
   "execution_count": 184,
   "id": "849a41f8",
   "metadata": {},
   "outputs": [
    {
     "data": {
      "text/plain": [
       "(60000, 784)"
      ]
     },
     "execution_count": 184,
     "metadata": {},
     "output_type": "execute_result"
    }
   ],
   "source": [
    "train_img.shape"
   ]
  },
  {
   "cell_type": "code",
   "execution_count": 185,
   "id": "01fac164",
   "metadata": {},
   "outputs": [],
   "source": [
    "train_labels_cat = to_categorical(train_labels)\n",
    "test_labels_cat = to_categorical(test_labels)"
   ]
  },
  {
   "cell_type": "code",
   "execution_count": 186,
   "id": "0f418177",
   "metadata": {},
   "outputs": [],
   "source": [
    "model = Sequential(name='fashion_model')\n",
    "model.add(Dense(128, activation='relu', input_shape=(28*28,)))\n",
    "for k in range(2):\n",
    "    model.add(Dense(10+(10-k)*10, activation='tanh'))\n",
    "              \n",
    "model.add(Dense(10,activation='softmax'))"
   ]
  },
  {
   "cell_type": "code",
   "execution_count": 187,
   "id": "31c3bf93",
   "metadata": {},
   "outputs": [
    {
     "name": "stdout",
     "output_type": "stream",
     "text": [
      "Model: \"fashion_model\"\n",
      "_________________________________________________________________\n",
      " Layer (type)                Output Shape              Param #   \n",
      "=================================================================\n",
      " dense_682 (Dense)           (None, 128)               100480    \n",
      "                                                                 \n",
      " dense_683 (Dense)           (None, 110)               14190     \n",
      "                                                                 \n",
      " dense_684 (Dense)           (None, 100)               11100     \n",
      "                                                                 \n",
      " dense_685 (Dense)           (None, 10)                1010      \n",
      "                                                                 \n",
      "=================================================================\n",
      "Total params: 126,780\n",
      "Trainable params: 126,780\n",
      "Non-trainable params: 0\n",
      "_________________________________________________________________\n"
     ]
    }
   ],
   "source": [
    "model.summary()"
   ]
  },
  {
   "cell_type": "code",
   "execution_count": 188,
   "id": "d75f8265",
   "metadata": {},
   "outputs": [],
   "source": [
    "model.compile(\n",
    "    optimizer='Adam',\n",
    "    loss=keras.losses.CategoricalCrossentropy(),\n",
    "    metrics=['accuracy'])"
   ]
  },
  {
   "cell_type": "code",
   "execution_count": 189,
   "id": "f539c434",
   "metadata": {},
   "outputs": [
    {
     "name": "stdout",
     "output_type": "stream",
     "text": [
      "Epoch 1/5\n",
      "480/480 [==============================] - 7s 12ms/step - loss: 0.5189 - accuracy: 0.8136 - val_loss: 0.4135 - val_accuracy: 0.8512\n",
      "Epoch 2/5\n",
      "480/480 [==============================] - 7s 14ms/step - loss: 0.3788 - accuracy: 0.8614 - val_loss: 0.3727 - val_accuracy: 0.8622\n",
      "Epoch 3/5\n",
      "480/480 [==============================] - 6s 13ms/step - loss: 0.3430 - accuracy: 0.8736 - val_loss: 0.3894 - val_accuracy: 0.8593\n",
      "Epoch 4/5\n",
      "480/480 [==============================] - 7s 15ms/step - loss: 0.3149 - accuracy: 0.8826 - val_loss: 0.3505 - val_accuracy: 0.8705\n",
      "Epoch 5/5\n",
      "480/480 [==============================] - 7s 14ms/step - loss: 0.2972 - accuracy: 0.8886 - val_loss: 0.3325 - val_accuracy: 0.8766\n"
     ]
    },
    {
     "data": {
      "text/plain": [
       "[0.3575817942619324, 0.8723000288009644]"
      ]
     },
     "execution_count": 189,
     "metadata": {},
     "output_type": "execute_result"
    }
   ],
   "source": [
    "model.fit(train_img[:,:],\n",
    "         train_labels_cat[:,:],\n",
    "         epochs=5,\n",
    "         batch_size=100,\n",
    "         validation_split=0.2)\n",
    "\n",
    "model.evaluate(test_img, test_labels_cat,verbose=0)"
   ]
  },
  {
   "cell_type": "code",
   "execution_count": 190,
   "id": "78d54569",
   "metadata": {},
   "outputs": [
    {
     "name": "stdout",
     "output_type": "stream",
     "text": [
      "[9 2 1 1 6]\n",
      "[9 2 1 1 6]\n"
     ]
    }
   ],
   "source": [
    "preds = model.predict(test_img[:5],verbose=0)\n",
    "print(np.argmax(preds, axis=1))\n",
    "print(test_labels[:5])"
   ]
  },
  {
   "cell_type": "code",
   "execution_count": 206,
   "id": "f9531ebc",
   "metadata": {},
   "outputs": [],
   "source": [
    "def evaluate_model(layers, epochs, batch_size, optimizer,neurons=128):\n",
    "    model = Sequential(name='fashion_model')\n",
    "    model.add(Dense(neurons, activation='relu', input_shape=(28*28,)))\n",
    "    for k in range(layers-2):\n",
    "        model.add(Dense(10+(10-k)*10, activation='tanh'))\n",
    "\n",
    "    model.add(Dense(10,activation='softmax'))\n",
    "    \n",
    "    model.compile(\n",
    "    optimizer=optimizer,\n",
    "    loss=keras.losses.CategoricalCrossentropy(),\n",
    "    metrics=['accuracy'])\n",
    "    \n",
    "    model.fit(train_img[:,:],\n",
    "         train_labels_cat[:,:],\n",
    "         epochs=epochs,\n",
    "         batch_size=batch_size,\n",
    "         validation_split=0.2,\n",
    "         verbose=0)\n",
    "\n",
    "    acc = model.evaluate(test_img, test_labels_cat,verbose=0)[1]\n",
    "    \n",
    "    return acc\n",
    "    "
   ]
  },
  {
   "cell_type": "code",
   "execution_count": 192,
   "id": "1cad6193",
   "metadata": {},
   "outputs": [],
   "source": [
    "params = {'epochs': [2,5,15],\n",
    "              'layers': [3, 4, 6],\n",
    "              'batch_size': [30, 100, 800],\n",
    "             'optimizer': ['SGD', 'Adam', 'Adagrad', 'RMSprop']}\n",
    "\n",
    "grid = ParameterGrid(params)"
   ]
  },
  {
   "cell_type": "code",
   "execution_count": 193,
   "id": "a6a9bf3d",
   "metadata": {},
   "outputs": [
    {
     "name": "stdout",
     "output_type": "stream",
     "text": [
      "1/108, 0.8246999979019165; 2/108, 0.8593000173568726; 3/108, 0.7746000289916992; 4/108, 0.8580999970436096; 5/108, 0.828499972820282; 6/108, 0.8432999849319458; 7/108, 0.7753000259399414; 8/108, 0.8544999957084656; 9/108, 0.8411999940872192; 10/108, 0.842199981212616; 11/108, 0.7932000160217285; 12/108, 0.8511999845504761; 13/108, 0.8485000133514404; 14/108, 0.8726000189781189; 15/108, 0.805899977684021; 16/108, 0.8600999712944031; 17/108, 0.8529999852180481; 18/108, 0.8675000071525574; 19/108, 0.8116999864578247; 20/108, 0.8650000095367432; 21/108, 0.8568000197410583; 22/108, 0.8610000014305115; 23/108, 0.8252000212669373; 24/108, 0.8654000163078308; 25/108, 0.8701000213623047; 26/108, 0.8766999840736389; 27/108, 0.8331999778747559; 28/108, 0.8830999732017517; 29/108, 0.873199999332428; 30/108, 0.8826000094413757; 31/108, 0.8366000056266785; 32/108, 0.8797000050544739; 33/108, 0.8798999786376953; 34/108, 0.875; 35/108, 0.8468000292778015; 36/108, 0.8711000084877014; 37/108, 0.7838000059127808; 38/108, 0.8608999848365784; 39/108, 0.7301999926567078; 40/108, 0.859000027179718; 41/108, 0.7949000000953674; 42/108, 0.8519999980926514; 43/108, 0.7350000143051147; 44/108, 0.8346999883651733; 45/108, 0.7957000136375427; 46/108, 0.855400025844574; 47/108, 0.7441999912261963; 48/108, 0.8501999974250793; 49/108, 0.8241999745368958; 50/108, 0.8646000027656555; 51/108, 0.7768999934196472; 52/108, 0.8729000091552734; 53/108, 0.8288000226020813; 54/108, 0.8607000112533569; 55/108, 0.7771999835968018; 56/108, 0.8733000159263611; 57/108, 0.835099995136261; 58/108, 0.862500011920929; 59/108, 0.7760000228881836; 60/108, 0.8646000027656555; 61/108, 0.849399983882904; 62/108, 0.8820000290870667; 63/108, 0.8100000023841858; 64/108, 0.8769999742507935; 65/108, 0.8521999716758728; 66/108, 0.8791000247001648; 67/108, 0.817300021648407; 68/108, 0.8741999864578247; 69/108, 0.8593999743461609; 70/108, 0.8759999871253967; 71/108, 0.8248000144958496; 72/108, 0.8812999725341797; 73/108, 0.6794000267982483; 74/108, 0.8309999704360962; 75/108, 0.4943999946117401; 76/108, 0.8230999708175659; 77/108, 0.6693000197410583; 78/108, 0.8393999934196472; 79/108, 0.552299976348877; 80/108, 0.8086000084877014; 81/108, 0.6735000014305115; 82/108, 0.8450999855995178; 83/108, 0.5697000026702881; 84/108, 0.8066999912261963; 85/108, 0.7396000027656555; 86/108, 0.8547999858856201; 87/108, 0.6618000268936157; 88/108, 0.8374999761581421; 89/108, 0.7394999861717224; 90/108, 0.8604999780654907; 91/108, 0.6654999852180481; 92/108, 0.843999981880188; 93/108, 0.7502999901771545; 94/108, 0.8600000143051147; 95/108, 0.6633999943733215; 96/108, 0.8422999978065491; 97/108, 0.7851999998092651; 98/108, 0.8755000233650208; 99/108, 0.7339000105857849; 100/108, 0.8557999730110168; 101/108, 0.7889000177383423; 102/108, 0.8812000155448914; 103/108, 0.7364000082015991; 104/108, 0.8639000058174133; 105/108, 0.7971000075340271; 106/108, 0.8762999773025513; 107/108, 0.7409999966621399; 108/108, 0.8633000254631042; "
     ]
    }
   ],
   "source": [
    "np.random.seed(26)\n",
    "results = pd.DataFrame(columns=['layers','epochs', 'batch_size', 'optimizer', 'accuracy'])\n",
    "total = len(grid)\n",
    "for i in range(total):\n",
    "    layers = grid[i]['layers']\n",
    "    epochs = grid[i]['epochs']\n",
    "    batch_size = grid[i]['batch_size']\n",
    "    optimizer = grid[i]['optimizer']\n",
    "    acc = evaluate_model(layers, epochs, batch_size, optimizer)\n",
    "    result=pd.DataFrame({'layers':layers, \n",
    "                         'epochs':epochs, \n",
    "                         'batch_size':batch_size, \n",
    "                         'optimizer':optimizer, \n",
    "                         'accuracy':acc}, index=[0])\n",
    "    results = pd.concat([result,results.loc[:]]).reset_index(drop=True)\n",
    "    print(f'{i+1}/{total}, {acc}', end='; ')\n",
    "    "
   ]
  },
  {
   "cell_type": "code",
   "execution_count": 194,
   "id": "9a937aae",
   "metadata": {},
   "outputs": [
    {
     "data": {
      "text/html": [
       "<div>\n",
       "<style scoped>\n",
       "    .dataframe tbody tr th:only-of-type {\n",
       "        vertical-align: middle;\n",
       "    }\n",
       "\n",
       "    .dataframe tbody tr th {\n",
       "        vertical-align: top;\n",
       "    }\n",
       "\n",
       "    .dataframe thead th {\n",
       "        text-align: right;\n",
       "    }\n",
       "</style>\n",
       "<table border=\"1\" class=\"dataframe\">\n",
       "  <thead>\n",
       "    <tr style=\"text-align: right;\">\n",
       "      <th></th>\n",
       "      <th>layers</th>\n",
       "      <th>epochs</th>\n",
       "      <th>batch_size</th>\n",
       "      <th>optimizer</th>\n",
       "      <th>accuracy</th>\n",
       "    </tr>\n",
       "  </thead>\n",
       "  <tbody>\n",
       "    <tr>\n",
       "      <th>80</th>\n",
       "      <td>3</td>\n",
       "      <td>15</td>\n",
       "      <td>30</td>\n",
       "      <td>RMSprop</td>\n",
       "      <td>0.8831</td>\n",
       "    </tr>\n",
       "    <tr>\n",
       "      <th>78</th>\n",
       "      <td>4</td>\n",
       "      <td>15</td>\n",
       "      <td>30</td>\n",
       "      <td>Adam</td>\n",
       "      <td>0.8826</td>\n",
       "    </tr>\n",
       "    <tr>\n",
       "      <th>46</th>\n",
       "      <td>3</td>\n",
       "      <td>15</td>\n",
       "      <td>100</td>\n",
       "      <td>Adam</td>\n",
       "      <td>0.8820</td>\n",
       "    </tr>\n",
       "    <tr>\n",
       "      <th>36</th>\n",
       "      <td>6</td>\n",
       "      <td>15</td>\n",
       "      <td>100</td>\n",
       "      <td>RMSprop</td>\n",
       "      <td>0.8813</td>\n",
       "    </tr>\n",
       "    <tr>\n",
       "      <th>6</th>\n",
       "      <td>4</td>\n",
       "      <td>15</td>\n",
       "      <td>800</td>\n",
       "      <td>Adam</td>\n",
       "      <td>0.8812</td>\n",
       "    </tr>\n",
       "    <tr>\n",
       "      <th>75</th>\n",
       "      <td>6</td>\n",
       "      <td>15</td>\n",
       "      <td>30</td>\n",
       "      <td>SGD</td>\n",
       "      <td>0.8799</td>\n",
       "    </tr>\n",
       "    <tr>\n",
       "      <th>76</th>\n",
       "      <td>4</td>\n",
       "      <td>15</td>\n",
       "      <td>30</td>\n",
       "      <td>RMSprop</td>\n",
       "      <td>0.8797</td>\n",
       "    </tr>\n",
       "    <tr>\n",
       "      <th>42</th>\n",
       "      <td>4</td>\n",
       "      <td>15</td>\n",
       "      <td>100</td>\n",
       "      <td>Adam</td>\n",
       "      <td>0.8791</td>\n",
       "    </tr>\n",
       "    <tr>\n",
       "      <th>44</th>\n",
       "      <td>3</td>\n",
       "      <td>15</td>\n",
       "      <td>100</td>\n",
       "      <td>RMSprop</td>\n",
       "      <td>0.8770</td>\n",
       "    </tr>\n",
       "    <tr>\n",
       "      <th>82</th>\n",
       "      <td>3</td>\n",
       "      <td>15</td>\n",
       "      <td>30</td>\n",
       "      <td>Adam</td>\n",
       "      <td>0.8767</td>\n",
       "    </tr>\n",
       "    <tr>\n",
       "      <th>2</th>\n",
       "      <td>6</td>\n",
       "      <td>15</td>\n",
       "      <td>800</td>\n",
       "      <td>Adam</td>\n",
       "      <td>0.8763</td>\n",
       "    </tr>\n",
       "    <tr>\n",
       "      <th>38</th>\n",
       "      <td>6</td>\n",
       "      <td>15</td>\n",
       "      <td>100</td>\n",
       "      <td>Adam</td>\n",
       "      <td>0.8760</td>\n",
       "    </tr>\n",
       "    <tr>\n",
       "      <th>10</th>\n",
       "      <td>3</td>\n",
       "      <td>15</td>\n",
       "      <td>800</td>\n",
       "      <td>Adam</td>\n",
       "      <td>0.8755</td>\n",
       "    </tr>\n",
       "    <tr>\n",
       "      <th>74</th>\n",
       "      <td>6</td>\n",
       "      <td>15</td>\n",
       "      <td>30</td>\n",
       "      <td>Adam</td>\n",
       "      <td>0.8750</td>\n",
       "    </tr>\n",
       "    <tr>\n",
       "      <th>40</th>\n",
       "      <td>4</td>\n",
       "      <td>15</td>\n",
       "      <td>100</td>\n",
       "      <td>RMSprop</td>\n",
       "      <td>0.8742</td>\n",
       "    </tr>\n",
       "    <tr>\n",
       "      <th>52</th>\n",
       "      <td>4</td>\n",
       "      <td>5</td>\n",
       "      <td>100</td>\n",
       "      <td>RMSprop</td>\n",
       "      <td>0.8733</td>\n",
       "    </tr>\n",
       "    <tr>\n",
       "      <th>79</th>\n",
       "      <td>4</td>\n",
       "      <td>15</td>\n",
       "      <td>30</td>\n",
       "      <td>SGD</td>\n",
       "      <td>0.8732</td>\n",
       "    </tr>\n",
       "    <tr>\n",
       "      <th>56</th>\n",
       "      <td>3</td>\n",
       "      <td>5</td>\n",
       "      <td>100</td>\n",
       "      <td>RMSprop</td>\n",
       "      <td>0.8729</td>\n",
       "    </tr>\n",
       "    <tr>\n",
       "      <th>94</th>\n",
       "      <td>3</td>\n",
       "      <td>5</td>\n",
       "      <td>30</td>\n",
       "      <td>Adam</td>\n",
       "      <td>0.8726</td>\n",
       "    </tr>\n",
       "    <tr>\n",
       "      <th>72</th>\n",
       "      <td>6</td>\n",
       "      <td>15</td>\n",
       "      <td>30</td>\n",
       "      <td>RMSprop</td>\n",
       "      <td>0.8711</td>\n",
       "    </tr>\n",
       "  </tbody>\n",
       "</table>\n",
       "</div>"
      ],
      "text/plain": [
       "   layers epochs batch_size optimizer  accuracy\n",
       "80      3     15         30   RMSprop    0.8831\n",
       "78      4     15         30      Adam    0.8826\n",
       "46      3     15        100      Adam    0.8820\n",
       "36      6     15        100   RMSprop    0.8813\n",
       "6       4     15        800      Adam    0.8812\n",
       "75      6     15         30       SGD    0.8799\n",
       "76      4     15         30   RMSprop    0.8797\n",
       "42      4     15        100      Adam    0.8791\n",
       "44      3     15        100   RMSprop    0.8770\n",
       "82      3     15         30      Adam    0.8767\n",
       "2       6     15        800      Adam    0.8763\n",
       "38      6     15        100      Adam    0.8760\n",
       "10      3     15        800      Adam    0.8755\n",
       "74      6     15         30      Adam    0.8750\n",
       "40      4     15        100   RMSprop    0.8742\n",
       "52      4      5        100   RMSprop    0.8733\n",
       "79      4     15         30       SGD    0.8732\n",
       "56      3      5        100   RMSprop    0.8729\n",
       "94      3      5         30      Adam    0.8726\n",
       "72      6     15         30   RMSprop    0.8711"
      ]
     },
     "execution_count": 194,
     "metadata": {},
     "output_type": "execute_result"
    }
   ],
   "source": [
    "results.sort_values(by='accuracy', ascending=False).head(20)"
   ]
  },
  {
   "cell_type": "code",
   "execution_count": 203,
   "id": "3c20e52f",
   "metadata": {},
   "outputs": [
    {
     "name": "stderr",
     "output_type": "stream",
     "text": [
      "C:\\Users\\ASUS\\AppData\\Local\\Temp\\ipykernel_5388\\4116764031.py:3: FutureWarning: Dropping invalid columns in DataFrameGroupBy.mean is deprecated. In a future version, a TypeError will be raised. Before calling .mean, select only columns which should be valid for the function.\n",
      "  df = results.groupby(['layers'], as_index=False).mean(numeric_only=False)\n",
      "C:\\Users\\ASUS\\AppData\\Local\\Temp\\ipykernel_5388\\4116764031.py:7: FutureWarning: Dropping invalid columns in DataFrameGroupBy.mean is deprecated. In a future version, a TypeError will be raised. Before calling .mean, select only columns which should be valid for the function.\n",
      "  df = results.groupby(['epochs'], as_index=False).mean(numeric_only=False)\n",
      "C:\\Users\\ASUS\\AppData\\Local\\Temp\\ipykernel_5388\\4116764031.py:11: FutureWarning: Dropping invalid columns in DataFrameGroupBy.mean is deprecated. In a future version, a TypeError will be raised. Before calling .mean, select only columns which should be valid for the function.\n",
      "  df = results.groupby(['batch_size'], as_index=False).mean(numeric_only=False)\n"
     ]
    },
    {
     "data": {
      "image/png": "[encoded data removed]",
      "text/plain": [
       "<Figure size 1080x720 with 4 Axes>"
      ]
     },
     "metadata": {
      "needs_background": "light"
     },
     "output_type": "display_data"
    }
   ],
   "source": [
    "figure, axis = plt.subplots(2, 2, figsize=(15, 10))\n",
    "\n",
    "df = results.groupby(['layers'], as_index=False).mean(numeric_only=False)\n",
    "axis[0, 0].plot(df['layers'],df['accuracy'],color='b')\n",
    "axis[0, 0].set_title(\"Layers\")\n",
    "  \n",
    "df = results.groupby(['epochs'], as_index=False).mean(numeric_only=False)\n",
    "axis[0, 1].plot(df['epochs'],df['accuracy'],color='c')\n",
    "axis[0, 1].set_title('Epochs')\n",
    "  \n",
    "df = results.groupby(['batch_size'], as_index=False).mean(numeric_only=False)\n",
    "axis[1, 0].plot(df['batch_size'],df['accuracy'],color='m')\n",
    "axis[1, 0].set_title(\"Batch Size\")\n",
    "  \n",
    "df = results.groupby(['optimizer'], as_index=False).mean(numeric_only=False)\n",
    "axis[1, 1].plot(df['optimizer'],df['accuracy'],color='orange')\n",
    "axis[1, 1].set_title(\"Optimizer\")\n",
    "  \n",
    "\n",
    "plt.show()"
   ]
  },
  {
   "cell_type": "code",
   "execution_count": 213,
   "id": "4718363c",
   "metadata": {},
   "outputs": [],
   "source": [
    "np.random.seed(26)\n",
    "neurons = [8,64,128,200, 256, 300]\n",
    "results=[]\n",
    "for neu in neurons:\n",
    "    acc = evaluate_model(4, 15, 30, 'Adam', i)\n",
    "    results.append(acc)"
   ]
  },
  {
   "cell_type": "code",
   "execution_count": 214,
   "id": "4841767b",
   "metadata": {},
   "outputs": [
    {
     "data": {
      "text/plain": [
       "Text(0, 0.5, 'Accuracy')"
      ]
     },
     "execution_count": 214,
     "metadata": {},
     "output_type": "execute_result"
    },
    {
     "data": {
      "image/png": "[encoded data removed]",
      "text/plain": [
       "<Figure size 432x288 with 1 Axes>"
      ]
     },
     "metadata": {
      "needs_background": "light"
     },
     "output_type": "display_data"
    }
   ],
   "source": [
    "plt.plot(neurons, results,'lime')\n",
    "plt.xlabel('Neurons (Input Layer)')\n",
    "plt.ylabel('Accuracy')"
   ]
  },
  {
   "cell_type": "code",
   "execution_count": 215,
   "id": "080da320",
   "metadata": {},
   "outputs": [
    {
     "data": {
      "text/plain": [
       "0.8840000033378601"
      ]
     },
     "execution_count": 215,
     "metadata": {},
     "output_type": "execute_result"
    }
   ],
   "source": [
    "results[3]"
   ]
  },
  {
   "cell_type": "code",
   "execution_count": 218,
   "id": "5f667e74",
   "metadata": {},
   "outputs": [],
   "source": [
    "model = Sequential(name='fashion_model')\n",
    "model.add(Dense(200, activation='relu', input_shape=(28*28,)))\n",
    "for k in range(1):\n",
    "    model.add(Dense(10+(10-k)*10, activation='tanh'))\n",
    "\n",
    "model.add(Dense(10,activation='softmax'))\n",
    "    \n",
    "model.compile(\n",
    "    optimizer='Adam',\n",
    "    loss=keras.losses.CategoricalCrossentropy(),\n",
    "    metrics=['accuracy'])"
   ]
  },
  {
   "cell_type": "code",
   "execution_count": 221,
   "id": "9b694760",
   "metadata": {},
   "outputs": [
    {
     "data": {
      "text/plain": [
       "<keras.callbacks.History at 0x1d3a27307f0>"
      ]
     },
     "execution_count": 221,
     "metadata": {},
     "output_type": "execute_result"
    }
   ],
   "source": [
    "model.fit(train_img[:,:],\n",
    "         train_labels_cat[:,:],\n",
    "         epochs=15,\n",
    "         batch_size=32,\n",
    "         validation_split=0.2,\n",
    "         verbose=0)"
   ]
  },
  {
   "cell_type": "code",
   "execution_count": 231,
   "id": "83da8428",
   "metadata": {},
   "outputs": [
    {
     "data": {
      "text/plain": [
       "[0.341055691242218, 0.8859000205993652]"
      ]
     },
     "execution_count": 231,
     "metadata": {},
     "output_type": "execute_result"
    }
   ],
   "source": [
    "model.evaluate(test_img, test_labels_cat,verbose=0)"
   ]
  },
  {
   "cell_type": "code",
   "execution_count": 222,
   "id": "e4051207",
   "metadata": {},
   "outputs": [
    {
     "name": "stdout",
     "output_type": "stream",
     "text": [
      "313/313 [==============================] - 1s 3ms/step\n"
     ]
    }
   ],
   "source": [
    "preds = model.predict(test_img)\n",
    "preds_class = np.argmax(preds, axis=1)\n",
    "test_class = np.argmax(test_labels_cat, axis=1)"
   ]
  },
  {
   "cell_type": "code",
   "execution_count": 224,
   "id": "6a5313a6",
   "metadata": {},
   "outputs": [],
   "source": [
    "class_names = ['T-shirt/top',\n",
    "               'Trouser',\n",
    "               'Pullover',\n",
    "               'Dress',\n",
    "               'Coat',\n",
    "               'Sandal',\n",
    "               'Shirt',\n",
    "               'Sneaker',\n",
    "               'Bag',\n",
    "               'Ankle boot']"
   ]
  },
  {
   "cell_type": "code",
   "execution_count": 225,
   "id": "028ce105",
   "metadata": {},
   "outputs": [
    {
     "data": {
      "image/png": "[encoded data removed]",
      "text/plain": [
       "<Figure size 720x720 with 2 Axes>"
      ]
     },
     "metadata": {
      "needs_background": "light"
     },
     "output_type": "display_data"
    }
   ],
   "source": [
    "# Визуализируем матрицу ошибок\n",
    "cm=confusion_matrix(test_class,preds_class)\n",
    "disp = ConfusionMatrixDisplay(cm, display_labels=class_names)\n",
    "fig, ax = plt.subplots(figsize=(10, 10))\n",
    "disp.plot(ax=ax)\n",
    "plt.show()"
   ]
  },
  {
   "cell_type": "code",
   "execution_count": 227,
   "id": "d4dfbbca",
   "metadata": {},
   "outputs": [],
   "source": [
    "unique_test, counts_test = np.unique(test_class, return_counts=True)\n",
    "unique_pred, counts_pred = np.unique(preds_class, return_counts=True)"
   ]
  },
  {
   "cell_type": "code",
   "execution_count": 228,
   "id": "285db512",
   "metadata": {},
   "outputs": [],
   "source": [
    "# Рассчитываем полноту и точность для классов\n",
    "recall = {}\n",
    "precision = {}\n",
    "trues = []\n",
    "for i in range(len(test_class)):\n",
    "    if test_class[i]==preds_class[i]:\n",
    "        trues.append(test_class[i])\n",
    "        \n",
    "for i in range(10):\n",
    "    recall[i] = trues.count(i) * 100 / counts_test[i]\n",
    "    precision[i] = trues.count(i) * 100 / counts_pred[i]"
   ]
  },
  {
   "cell_type": "code",
   "execution_count": 229,
   "id": "1278a88c",
   "metadata": {},
   "outputs": [
    {
     "data": {
      "image/png": "[encoded data removed]",
      "text/plain": [
       "<Figure size 1440x432 with 1 Axes>"
      ]
     },
     "metadata": {
      "needs_background": "light"
     },
     "output_type": "display_data"
    }
   ],
   "source": [
    "x = np.arange(10)#list(recall.keys()))\n",
    "fig, ax = plt.subplots(figsize=(20, 6))\n",
    "plt.bar (x-0.17, list(recall.values()), color='blue', alpha=1,width=0.3,label='Recall')\n",
    "plt.bar (x+0.17, list(precision.values()), alpha=1,color='cyan', width=0.3,label='Precision')\n",
    "plt.legend()\n",
    "ax.set_xticks(x)\n",
    "ax.set_xticklabels(class_names)\n",
    "plt.show()"
   ]
  }
 ],
 "metadata": {
  "kernelspec": {
   "display_name": "gpu2",
   "language": "python",
   "name": "gpu2"
  },
  "language_info": {
   "codemirror_mode": {
    "name": "ipython",
    "version": 3
   },
   "file_extension": ".py",
   "mimetype": "text/x-python",
   "name": "python",
   "nbconvert_exporter": "python",
   "pygments_lexer": "ipython3",
   "version": "3.9.15"
  }
 },
 "nbformat": 4,
 "nbformat_minor": 5
}
